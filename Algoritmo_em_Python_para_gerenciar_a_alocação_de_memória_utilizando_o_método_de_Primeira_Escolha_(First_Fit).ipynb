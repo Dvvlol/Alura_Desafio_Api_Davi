{
  "nbformat": 4,
  "nbformat_minor": 0,
  "metadata": {
    "colab": {
      "provenance": [],
      "authorship_tag": "ABX9TyOFA5RziDBXbaqRI2ZyBPdt",
      "include_colab_link": true
    },
    "kernelspec": {
      "name": "python3",
      "display_name": "Python 3"
    },
    "language_info": {
      "name": "python"
    }
  },
  "cells": [
    {
      "cell_type": "markdown",
      "metadata": {
        "id": "view-in-github",
        "colab_type": "text"
      },
      "source": [
        "<a href=\"https://colab.research.google.com/github/Dvvlol/Alura_Desafio_Api_Davi/blob/main/Algoritmo_em_Python_para_gerenciar_a_aloca%C3%A7%C3%A3o_de_mem%C3%B3ria_utilizando_o_m%C3%A9todo_de_Primeira_Escolha_(First_Fit).ipynb\" target=\"_parent\"><img src=\"https://colab.research.google.com/assets/colab-badge.svg\" alt=\"Open In Colab\"/></a>"
      ]
    },
    {
      "cell_type": "code",
      "execution_count": 1,
      "metadata": {
        "colab": {
          "base_uri": "https://localhost:8080/"
        },
        "id": "RittAdlXJXAy",
        "outputId": "25841f4f-4eb3-47d4-87e6-081ead1c759c"
      },
      "outputs": [
        {
          "output_type": "stream",
          "name": "stdout",
          "text": [
            "Memória alocada no intervalo (0, 19)\n",
            "Memória alocada no intervalo (20, 69)\n",
            "Memória alocada no intervalo (0, 9)\n"
          ]
        },
        {
          "output_type": "execute_result",
          "data": {
            "text/plain": [
              "0"
            ]
          },
          "metadata": {},
          "execution_count": 1
        }
      ],
      "source": [
        "class GerenciadorMemoria:\n",
        "    def __init__(self, tamanho):\n",
        "        self.tamanho = tamanho\n",
        "        self.memoria = [0] * tamanho  # Representa a memória como uma lista de blocos\n",
        "        self.blocos_livres = [(0, tamanho)]  # Lista de tuplas (início, tamanho) representando os blocos livres\n",
        "\n",
        "    def alocar(self, tamanho):\n",
        "        for i, (inicio, comprimento) in enumerate(self.blocos_livres):\n",
        "            if comprimento >= tamanho:  # Verifica se o bloco livre é grande o suficiente\n",
        "                # Aloca o bloco\n",
        "                fim = inicio + tamanho\n",
        "                self.memoria[inicio:fim] = [1] * tamanho\n",
        "                if comprimento > tamanho:\n",
        "                    self.blocos_livres[i] = (fim, comprimento - tamanho)\n",
        "                else:\n",
        "                    del self.blocos_livres[i]\n",
        "                print(f\"Memória alocada no intervalo ({inicio}, {fim - 1})\")\n",
        "                return inicio\n",
        "        print(\"Erro: Memória insuficiente.\")\n",
        "        return -1\n",
        "\n",
        "    def liberar(self, inicio, tamanho):\n",
        "        fim = inicio + tamanho\n",
        "        self.memoria[inicio:fim] = [0] * tamanho\n",
        "        self.blocos_livres.append((inicio, tamanho))\n",
        "        self.blocos_livres.sort()  # Ordena os blocos livres para manter a continuidade\n",
        "        self._mesclar_blocos()\n",
        "\n",
        "    def _mesclar_blocos(self):\n",
        "        mesclados = []\n",
        "        for inicio, tamanho in self.blocos_livres:\n",
        "            if mesclados and mesclados[-1][0] + mesclados[-1][1] == inicio:\n",
        "                mesclados[-1] = (mesclados[-1][0], mesclados[-1][1] + tamanho)\n",
        "            else:\n",
        "                mesclados.append((inicio, tamanho))\n",
        "        self.blocos_livres = mesclados\n",
        "\n",
        "# Exemplo de uso\n",
        "memoria = GerenciadorMemoria(100)  # Inicializa 100 unidades de memória\n",
        "memoria.alocar(20)                # Aloca 20 unidades\n",
        "memoria.alocar(50)                # Aloca 50 unidades\n",
        "memoria.liberar(0, 20)            # Libera 20 unidades a partir do início\n",
        "memoria.alocar(10)                # Aloca 10 unidades"
      ]
    }
  ]
}